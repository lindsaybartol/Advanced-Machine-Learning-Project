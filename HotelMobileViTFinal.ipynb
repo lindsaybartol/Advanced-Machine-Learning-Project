{
 "cells": [
  {
   "cell_type": "code",
   "execution_count": 7,
   "id": "15e488d7-ed99-4575-b3dd-673f6c86106d",
   "metadata": {},
   "outputs": [],
   "source": [
    "import os\n",
    "import pandas as pd\n",
    "import torch\n",
    "from PIL import Image, UnidentifiedImageError\n",
    "from torch.utils.data import Dataset, DataLoader\n",
    "from torchvision import transforms\n",
    "from transformers import MobileViTForImageClassification, MobileViTImageProcessor\n",
    "import torch.optim as optim\n",
    "from sklearn.model_selection import train_test_split\n",
    "\n",
    "\n",
    "IM_SIZE = 160\n",
    "\n",
    "\n",
    "train_transform = transforms.Compose([\n",
    "    transforms.Resize((IM_SIZE, IM_SIZE)),\n",
    "    transforms.RandomHorizontalFlip(p=0.5),\n",
    "    transforms.RandomRotation(degrees=15),\n",
    "    transforms.RandomResizedCrop(IM_SIZE, scale=(0.8, 1.0)),\n",
    "    transforms.ColorJitter(brightness=0.2, contrast=0.2, saturation=0.2, hue=0.1),\n",
    "    transforms.ToTensor(),\n",
    "    transforms.Normalize((0.485, 0.456, 0.406), (0.229, 0.224, 0.225))\n",
    "])\n",
    "\n",
    "\n",
    "test_transform = transforms.Compose([\n",
    "    transforms.Resize((IM_SIZE, IM_SIZE)),\n",
    "    transforms.ToTensor(),\n",
    "    transforms.Normalize((0.485, 0.456, 0.406), (0.229, 0.224, 0.225))\n",
    "])\n",
    "\n",
    "\n",
    "csv_file = '/Users/johnizzo/Desktop/train.csv'  \n",
    "root_dir = '/Users/johnizzo/Desktop/train_images'  \n",
    "\n",
    "df = pd.read_csv(csv_file)\n",
    "hotel_counts = df[\"hotel_id\"].value_counts()\n",
    "filtered_hotels = hotel_counts[hotel_counts >= 20].index.tolist()\n",
    "filtered_df = df[df[\"hotel_id\"].isin(filtered_hotels)]\n",
    "\n",
    "\n",
    "train_df, test_df = train_test_split(filtered_df, test_size=0.1, stratify=filtered_df['hotel_id'], random_state=42)\n",
    "\n",
    "\n",
    "unique_hotel_ids = sorted(train_df['hotel_id'].unique())\n",
    "hotel_id_to_index = {hotel_id: idx for idx, hotel_id in enumerate(unique_hotel_ids)}\n",
    "index_to_hotel_id = {idx: hotel_id for hotel_id, idx in hotel_id_to_index.items()}\n",
    "\n",
    "\n",
    "train_df['class_index'] = train_df['hotel_id'].map(hotel_id_to_index)\n",
    "test_df['class_index'] = test_df['hotel_id'].map(hotel_id_to_index)\n"
   ]
  },
  {
   "cell_type": "code",
   "execution_count": 8,
   "id": "1530dd92-cccb-4e5e-ab6d-ac117447807a",
   "metadata": {},
   "outputs": [],
   "source": [
    "from PIL import Image, UnidentifiedImageError, ImageFile\n",
    "ImageFile.LOAD_TRUNCATED_IMAGES = False  \n",
    "\n",
    "class HotelRoomDataset(Dataset):\n",
    "    def __init__(self, data, root_dir, transform=None):\n",
    "        self.data = data.reset_index(drop=True)  # Reset index after filtering\n",
    "        self.root_dir = root_dir\n",
    "        self.transform = transform\n",
    "\n",
    "    def __len__(self):\n",
    "        return len(self.data)\n",
    "\n",
    "    def __getitem__(self, idx):\n",
    "        # Get image filename and class index\n",
    "        img_name = self.data.iloc[idx, 0]\n",
    "        class_index = int(self.data.iloc[idx, -1])  # Use 'class_index' column\n",
    "\n",
    "        # Construct the full image path\n",
    "        img_path = os.path.join(self.root_dir, str(self.data.iloc[idx, 1]), img_name)\n",
    "\n",
    "        try:\n",
    "            # Load and preprocess the image\n",
    "            image = Image.open(img_path).convert(\"RGB\")\n",
    "            if self.transform:\n",
    "                image = self.transform(image)\n",
    "        except (UnidentifiedImageError, FileNotFoundError, OSError) as e:\n",
    "            print(f\"Warning: Skipping image {img_path}. Error: {e}\")\n",
    "            return None  # Return None if image loading fails\n",
    "\n",
    "        # Return the image tensor and the class index as the label\n",
    "        label = torch.tensor(class_index, dtype=torch.long)\n",
    "        return image, label\n",
    "\n",
    "# Initialize datasets with transforms\n",
    "train_dataset = HotelRoomDataset(data=train_df, root_dir=root_dir, transform=train_transform)\n",
    "test_dataset = HotelRoomDataset(data=test_df, root_dir=root_dir, transform=test_transform)"
   ]
  },
  {
   "cell_type": "code",
   "execution_count": 9,
   "id": "d9785488-ea7e-4a1f-87fc-9623ddf54830",
   "metadata": {},
   "outputs": [],
   "source": [
    "# Custom collate function to handle None values\n",
    "def collate_fn(batch):\n",
    "    # Filter out None values\n",
    "    batch = [item for item in batch if item is not None]\n",
    "    if len(batch) == 0:\n",
    "        return None  # Skip if batch is empty\n",
    "    images, labels = zip(*batch)\n",
    "    images = torch.stack(images)\n",
    "    labels = torch.stack(labels)\n",
    "    return images, labels\n",
    "\n",
    "# Create dataloaders\n",
    "train_dataloader = DataLoader(train_dataset, batch_size=16, shuffle=True, num_workers=0, collate_fn=collate_fn)\n",
    "test_dataloader = DataLoader(test_dataset, batch_size=16, shuffle=False, num_workers=0, collate_fn=collate_fn)"
   ]
  },
  {
   "cell_type": "code",
   "execution_count": 10,
   "id": "479a4d11-fdf0-4988-8688-4b2a99d46f4e",
   "metadata": {},
   "outputs": [
    {
     "name": "stderr",
     "output_type": "stream",
     "text": [
      "Some weights of MobileViTForImageClassification were not initialized from the model checkpoint at apple/mobilevit-xx-small and are newly initialized because the shapes did not match:\n",
      "- classifier.weight: found shape torch.Size([1000, 320]) in the checkpoint and torch.Size([1062, 320]) in the model instantiated\n",
      "- classifier.bias: found shape torch.Size([1000]) in the checkpoint and torch.Size([1062]) in the model instantiated\n",
      "You should probably TRAIN this model on a down-stream task to be able to use it for predictions and inference.\n"
     ]
    }
   ],
   "source": [
    "# Initialize the MobileViT model for image classification\n",
    "num_classes = len(unique_hotel_ids)  # Set to the number of unique hotels in the dataset\n",
    "model = MobileViTForImageClassification.from_pretrained(\n",
    "    \"apple/mobilevit-xx-small\",\n",
    "    num_labels=num_classes,\n",
    "    ignore_mismatched_sizes=True\n",
    ")\n",
    "# Move model to GPU if available\n",
    "device = torch.device(\"cuda\" if torch.cuda.is_available() else \"cpu\")\n",
    "model = model.to(device)\n",
    "\n",
    "\n",
    "criterion = torch.nn.CrossEntropyLoss()\n",
    "optimizer = optim.AdamW(model.parameters(), lr=1e-4)"
   ]
  },
  {
   "cell_type": "code",
   "execution_count": 28,
   "id": "0f6a53d3-469b-4f56-a514-9c2d9afaae3a",
   "metadata": {},
   "outputs": [
    {
     "name": "stdout",
     "output_type": "stream",
     "text": [
      "Warning: Skipping image /Users/johnizzo/Desktop/train_images/90/c1d132eacc1db6b4.jpg. Error: [Errno 2] No such file or directory: '/Users/johnizzo/Desktop/train_images/90/c1d132eacc1db6b4.jpg'\n",
      "Warning: Skipping image /Users/johnizzo/Desktop/train_images/90/c1ded444afaa1c39.jpg. Error: [Errno 2] No such file or directory: '/Users/johnizzo/Desktop/train_images/90/c1ded444afaa1c39.jpg'\n",
      "Warning: Skipping image /Users/johnizzo/Desktop/train_images/90/c3e1748f2f7434c8.jpg. Error: [Errno 2] No such file or directory: '/Users/johnizzo/Desktop/train_images/90/c3e1748f2f7434c8.jpg'\n",
      "Warning: Skipping image /Users/johnizzo/Desktop/train_images/90/bdaf299cd2c2086d.jpg. Error: [Errno 2] No such file or directory: '/Users/johnizzo/Desktop/train_images/90/bdaf299cd2c2086d.jpg'\n",
      "Warning: Skipping image /Users/johnizzo/Desktop/train_images/90/c3e2393d65991867.jpg. Error: cannot identify image file '/Users/johnizzo/Desktop/train_images/90/c3e2393d65991867.jpg'\n",
      "Warning: Skipping image /Users/johnizzo/Desktop/train_images/90/c2c7e3d9cc329b90.jpg. Error: [Errno 2] No such file or directory: '/Users/johnizzo/Desktop/train_images/90/c2c7e3d9cc329b90.jpg'\n",
      "Warning: Skipping image /Users/johnizzo/Desktop/train_images/90/c1c9a636645d79a6.jpg. Error: [Errno 2] No such file or directory: '/Users/johnizzo/Desktop/train_images/90/c1c9a636645d79a6.jpg'\n",
      "Warning: Skipping image /Users/johnizzo/Desktop/train_images/90/c296afc53831dce1.jpg. Error: [Errno 2] No such file or directory: '/Users/johnizzo/Desktop/train_images/90/c296afc53831dce1.jpg'\n",
      "Warning: Skipping image /Users/johnizzo/Desktop/train_images/90/c2e469dad61e18f1.jpg. Error: [Errno 2] No such file or directory: '/Users/johnizzo/Desktop/train_images/90/c2e469dad61e18f1.jpg'\n",
      "Warning: Skipping image /Users/johnizzo/Desktop/train_images/90/c1ca9a692b1f6563.jpg. Error: [Errno 2] No such file or directory: '/Users/johnizzo/Desktop/train_images/90/c1ca9a692b1f6563.jpg'\n",
      "Warning: Skipping image /Users/johnizzo/Desktop/train_images/90/bdbd0253ad2442b7.jpg. Error: cannot identify image file '/Users/johnizzo/Desktop/train_images/90/bdbd0253ad2442b7.jpg'\n",
      "Warning: Skipping image /Users/johnizzo/Desktop/train_images/90/c3c31b38ecdc3362.jpg. Error: [Errno 2] No such file or directory: '/Users/johnizzo/Desktop/train_images/90/c3c31b38ecdc3362.jpg'\n",
      "Warning: Skipping image /Users/johnizzo/Desktop/train_images/90/c3873ce81e763139.jpg. Error: cannot identify image file '/Users/johnizzo/Desktop/train_images/90/c3873ce81e763139.jpg'\n",
      "Warning: Skipping image /Users/johnizzo/Desktop/train_images/90/c3fc7e84c0c1a8f6.jpg. Error: cannot identify image file '/Users/johnizzo/Desktop/train_images/90/c3fc7e84c0c1a8f6.jpg'\n",
      "Warning: Skipping image /Users/johnizzo/Desktop/train_images/90/c1e13876d68f2d34.jpg. Error: [Errno 2] No such file or directory: '/Users/johnizzo/Desktop/train_images/90/c1e13876d68f2d34.jpg'\n",
      "Warning: Skipping image /Users/johnizzo/Desktop/train_images/90/c26bf50a2f1c3f24.jpg. Error: [Errno 2] No such file or directory: '/Users/johnizzo/Desktop/train_images/90/c26bf50a2f1c3f24.jpg'\n",
      "Warning: Skipping image /Users/johnizzo/Desktop/train_images/90/c3f90b18c11fe03f.jpg. Error: cannot identify image file '/Users/johnizzo/Desktop/train_images/90/c3f90b18c11fe03f.jpg'\n",
      "Warning: Skipping image /Users/johnizzo/Desktop/train_images/90/c262be33ccce5133.jpg. Error: [Errno 2] No such file or directory: '/Users/johnizzo/Desktop/train_images/90/c262be33ccce5133.jpg'\n",
      "Warning: Skipping image /Users/johnizzo/Desktop/train_images/90/c28763de37e09e30.jpg. Error: [Errno 2] No such file or directory: '/Users/johnizzo/Desktop/train_images/90/c28763de37e09e30.jpg'\n",
      "Warning: Skipping image /Users/johnizzo/Desktop/train_images/90/c26c2d66a626af96.jpg. Error: [Errno 2] No such file or directory: '/Users/johnizzo/Desktop/train_images/90/c26c2d66a626af96.jpg'\n",
      "Warning: Skipping image /Users/johnizzo/Desktop/train_images/90/c1c8b5e3c23f1cc9.jpg. Error: [Errno 2] No such file or directory: '/Users/johnizzo/Desktop/train_images/90/c1c8b5e3c23f1cc9.jpg'\n",
      "Warning: Skipping image /Users/johnizzo/Desktop/train_images/90/c2e61176993e195e.jpg. Error: [Errno 2] No such file or directory: '/Users/johnizzo/Desktop/train_images/90/c2e61176993e195e.jpg'\n",
      "Warning: Skipping image /Users/johnizzo/Desktop/train_images/90/c1fb947829676269.jpg. Error: [Errno 2] No such file or directory: '/Users/johnizzo/Desktop/train_images/90/c1fb947829676269.jpg'\n",
      "Warning: Skipping image /Users/johnizzo/Desktop/train_images/90/c39b3bc4fc622619.jpg. Error: [Errno 2] No such file or directory: '/Users/johnizzo/Desktop/train_images/90/c39b3bc4fc622619.jpg'\n",
      "Warning: Skipping image /Users/johnizzo/Desktop/train_images/90/c3b27cdf80e4c391.jpg. Error: image file is truncated (58 bytes not processed)\n",
      "Warning: Skipping image /Users/johnizzo/Desktop/train_images/90/bdbb6255427d8660.jpg. Error: [Errno 2] No such file or directory: '/Users/johnizzo/Desktop/train_images/90/bdbb6255427d8660.jpg'\n",
      "Warning: Skipping image /Users/johnizzo/Desktop/train_images/90/c1f234c95a1ce177.jpg. Error: cannot identify image file '/Users/johnizzo/Desktop/train_images/90/c1f234c95a1ce177.jpg'\n",
      "Warning: Skipping image /Users/johnizzo/Desktop/train_images/90/c2af65d15561b6c4.jpg. Error: [Errno 2] No such file or directory: '/Users/johnizzo/Desktop/train_images/90/c2af65d15561b6c4.jpg'\n",
      "Warning: Skipping image /Users/johnizzo/Desktop/train_images/90/c2e07c9f6b96f0c0.jpg. Error: [Errno 2] No such file or directory: '/Users/johnizzo/Desktop/train_images/90/c2e07c9f6b96f0c0.jpg'\n",
      "Epoch 1/2, Loss: 6.874273698418229\n",
      "Warning: Skipping image /Users/johnizzo/Desktop/train_images/90/c1fb947829676269.jpg. Error: [Errno 2] No such file or directory: '/Users/johnizzo/Desktop/train_images/90/c1fb947829676269.jpg'\n",
      "Warning: Skipping image /Users/johnizzo/Desktop/train_images/90/c1e13876d68f2d34.jpg. Error: [Errno 2] No such file or directory: '/Users/johnizzo/Desktop/train_images/90/c1e13876d68f2d34.jpg'\n",
      "Warning: Skipping image /Users/johnizzo/Desktop/train_images/90/c2e07c9f6b96f0c0.jpg. Error: [Errno 2] No such file or directory: '/Users/johnizzo/Desktop/train_images/90/c2e07c9f6b96f0c0.jpg'\n",
      "Warning: Skipping image /Users/johnizzo/Desktop/train_images/90/c3e2393d65991867.jpg. Error: cannot identify image file '/Users/johnizzo/Desktop/train_images/90/c3e2393d65991867.jpg'\n",
      "Warning: Skipping image /Users/johnizzo/Desktop/train_images/90/c1ca9a692b1f6563.jpg. Error: [Errno 2] No such file or directory: '/Users/johnizzo/Desktop/train_images/90/c1ca9a692b1f6563.jpg'\n",
      "Warning: Skipping image /Users/johnizzo/Desktop/train_images/90/c26bf50a2f1c3f24.jpg. Error: [Errno 2] No such file or directory: '/Users/johnizzo/Desktop/train_images/90/c26bf50a2f1c3f24.jpg'\n",
      "Warning: Skipping image /Users/johnizzo/Desktop/train_images/90/c1c9a636645d79a6.jpg. Error: [Errno 2] No such file or directory: '/Users/johnizzo/Desktop/train_images/90/c1c9a636645d79a6.jpg'\n",
      "Warning: Skipping image /Users/johnizzo/Desktop/train_images/90/c28763de37e09e30.jpg. Error: [Errno 2] No such file or directory: '/Users/johnizzo/Desktop/train_images/90/c28763de37e09e30.jpg'\n",
      "Warning: Skipping image /Users/johnizzo/Desktop/train_images/90/c39b3bc4fc622619.jpg. Error: [Errno 2] No such file or directory: '/Users/johnizzo/Desktop/train_images/90/c39b3bc4fc622619.jpg'\n",
      "Warning: Skipping image /Users/johnizzo/Desktop/train_images/90/c2af65d15561b6c4.jpg. Error: [Errno 2] No such file or directory: '/Users/johnizzo/Desktop/train_images/90/c2af65d15561b6c4.jpg'\n",
      "Warning: Skipping image /Users/johnizzo/Desktop/train_images/90/bdbb6255427d8660.jpg. Error: [Errno 2] No such file or directory: '/Users/johnizzo/Desktop/train_images/90/bdbb6255427d8660.jpg'\n",
      "Warning: Skipping image /Users/johnizzo/Desktop/train_images/90/c1c8b5e3c23f1cc9.jpg. Error: [Errno 2] No such file or directory: '/Users/johnizzo/Desktop/train_images/90/c1c8b5e3c23f1cc9.jpg'\n",
      "Warning: Skipping image /Users/johnizzo/Desktop/train_images/90/c296afc53831dce1.jpg. Error: [Errno 2] No such file or directory: '/Users/johnizzo/Desktop/train_images/90/c296afc53831dce1.jpg'\n",
      "Warning: Skipping image /Users/johnizzo/Desktop/train_images/90/c2e469dad61e18f1.jpg. Error: [Errno 2] No such file or directory: '/Users/johnizzo/Desktop/train_images/90/c2e469dad61e18f1.jpg'\n",
      "Warning: Skipping image /Users/johnizzo/Desktop/train_images/90/bdaf299cd2c2086d.jpg. Error: [Errno 2] No such file or directory: '/Users/johnizzo/Desktop/train_images/90/bdaf299cd2c2086d.jpg'\n",
      "Warning: Skipping image /Users/johnizzo/Desktop/train_images/90/c262be33ccce5133.jpg. Error: [Errno 2] No such file or directory: '/Users/johnizzo/Desktop/train_images/90/c262be33ccce5133.jpg'\n",
      "Warning: Skipping image /Users/johnizzo/Desktop/train_images/90/c2e61176993e195e.jpg. Error: [Errno 2] No such file or directory: '/Users/johnizzo/Desktop/train_images/90/c2e61176993e195e.jpg'\n",
      "Warning: Skipping image /Users/johnizzo/Desktop/train_images/90/bdbd0253ad2442b7.jpg. Error: cannot identify image file '/Users/johnizzo/Desktop/train_images/90/bdbd0253ad2442b7.jpg'\n",
      "Warning: Skipping image /Users/johnizzo/Desktop/train_images/90/c1ded444afaa1c39.jpg. Error: [Errno 2] No such file or directory: '/Users/johnizzo/Desktop/train_images/90/c1ded444afaa1c39.jpg'\n",
      "Warning: Skipping image /Users/johnizzo/Desktop/train_images/90/c26c2d66a626af96.jpg. Error: [Errno 2] No such file or directory: '/Users/johnizzo/Desktop/train_images/90/c26c2d66a626af96.jpg'\n",
      "Warning: Skipping image /Users/johnizzo/Desktop/train_images/90/c3e1748f2f7434c8.jpg. Error: [Errno 2] No such file or directory: '/Users/johnizzo/Desktop/train_images/90/c3e1748f2f7434c8.jpg'\n",
      "Warning: Skipping image /Users/johnizzo/Desktop/train_images/90/c3fc7e84c0c1a8f6.jpg. Error: cannot identify image file '/Users/johnizzo/Desktop/train_images/90/c3fc7e84c0c1a8f6.jpg'\n",
      "Warning: Skipping image /Users/johnizzo/Desktop/train_images/90/c1f234c95a1ce177.jpg. Error: cannot identify image file '/Users/johnizzo/Desktop/train_images/90/c1f234c95a1ce177.jpg'\n",
      "Warning: Skipping image /Users/johnizzo/Desktop/train_images/90/c1d132eacc1db6b4.jpg. Error: [Errno 2] No such file or directory: '/Users/johnizzo/Desktop/train_images/90/c1d132eacc1db6b4.jpg'\n",
      "Warning: Skipping image /Users/johnizzo/Desktop/train_images/90/c3f90b18c11fe03f.jpg. Error: cannot identify image file '/Users/johnizzo/Desktop/train_images/90/c3f90b18c11fe03f.jpg'\n",
      "Warning: Skipping image /Users/johnizzo/Desktop/train_images/90/c2c7e3d9cc329b90.jpg. Error: [Errno 2] No such file or directory: '/Users/johnizzo/Desktop/train_images/90/c2c7e3d9cc329b90.jpg'\n",
      "Warning: Skipping image /Users/johnizzo/Desktop/train_images/90/c3873ce81e763139.jpg. Error: cannot identify image file '/Users/johnizzo/Desktop/train_images/90/c3873ce81e763139.jpg'\n",
      "Warning: Skipping image /Users/johnizzo/Desktop/train_images/90/c3b27cdf80e4c391.jpg. Error: image file is truncated (58 bytes not processed)\n",
      "Warning: Skipping image /Users/johnizzo/Desktop/train_images/90/c3c31b38ecdc3362.jpg. Error: [Errno 2] No such file or directory: '/Users/johnizzo/Desktop/train_images/90/c3c31b38ecdc3362.jpg'\n",
      "Epoch 2/2, Loss: 6.48531721300549\n",
      "Model training complete and saved after 2 epochs!\n"
     ]
    }
   ],
   "source": [
    "# Training loop\n",
    "num_epochs = 2  # Train for only 2 epochs\n",
    "for epoch in range(num_epochs):\n",
    "    model.train()\n",
    "    running_loss = 0.0\n",
    "    \n",
    "    for batch in train_dataloader:\n",
    "        if batch is None:  # Skip empty batches\n",
    "            continue\n",
    "\n",
    "        images, labels = batch\n",
    "        images, labels = images.to(device), labels.to(device)\n",
    "        \n",
    "        optimizer.zero_grad()\n",
    "        outputs = model(pixel_values=images)\n",
    "        loss = criterion(outputs.logits, labels)\n",
    "        loss.backward()\n",
    "        optimizer.step()\n",
    "        \n",
    "        running_loss += loss.item()\n",
    "    \n",
    "    print(f\"Epoch {epoch+1}/{num_epochs}, Loss: {running_loss / len(train_dataloader)}\")\n",
    "\n",
    "# Save the model\n",
    "torch.save(model.state_dict(), 'model_after_2_epochs.pth')\n",
    "print(\"Model training complete and saved after 2 epochs!\")"
   ]
  },
  {
   "cell_type": "code",
   "execution_count": 6,
   "id": "4cbadc2d-c601-451c-9cb3-4a93e3a0b269",
   "metadata": {},
   "outputs": [
    {
     "name": "stderr",
     "output_type": "stream",
     "text": [
      "Some weights of MobileViTForImageClassification were not initialized from the model checkpoint at apple/mobilevit-xx-small and are newly initialized because the shapes did not match:\n",
      "- classifier.weight: found shape torch.Size([1000, 320]) in the checkpoint and torch.Size([1062, 320]) in the model instantiated\n",
      "- classifier.bias: found shape torch.Size([1000]) in the checkpoint and torch.Size([1062]) in the model instantiated\n",
      "You should probably TRAIN this model on a down-stream task to be able to use it for predictions and inference.\n"
     ]
    },
    {
     "name": "stdout",
     "output_type": "stream",
     "text": [
      "Model loaded successfully from 17 epochs.\n",
      "Warning: Skipping image /Users/johnizzo/Desktop/train_images/90/c28763de37e09e30.jpg. Error: [Errno 2] No such file or directory: '/Users/johnizzo/Desktop/train_images/90/c28763de37e09e30.jpg'\n",
      "Warning: Skipping image /Users/johnizzo/Desktop/train_images/90/c1ded444afaa1c39.jpg. Error: [Errno 2] No such file or directory: '/Users/johnizzo/Desktop/train_images/90/c1ded444afaa1c39.jpg'\n",
      "Warning: Skipping image /Users/johnizzo/Desktop/train_images/90/c2e07c9f6b96f0c0.jpg. Error: [Errno 2] No such file or directory: '/Users/johnizzo/Desktop/train_images/90/c2e07c9f6b96f0c0.jpg'\n",
      "Warning: Skipping image /Users/johnizzo/Desktop/train_images/90/c3e1748f2f7434c8.jpg. Error: [Errno 2] No such file or directory: '/Users/johnizzo/Desktop/train_images/90/c3e1748f2f7434c8.jpg'\n",
      "Warning: Skipping image /Users/johnizzo/Desktop/train_images/90/c1f234c95a1ce177.jpg. Error: cannot identify image file '/Users/johnizzo/Desktop/train_images/90/c1f234c95a1ce177.jpg'\n",
      "Warning: Skipping image /Users/johnizzo/Desktop/train_images/90/bdaf299cd2c2086d.jpg. Error: [Errno 2] No such file or directory: '/Users/johnizzo/Desktop/train_images/90/bdaf299cd2c2086d.jpg'\n",
      "Warning: Skipping image /Users/johnizzo/Desktop/train_images/90/c2e61176993e195e.jpg. Error: [Errno 2] No such file or directory: '/Users/johnizzo/Desktop/train_images/90/c2e61176993e195e.jpg'\n",
      "Warning: Skipping image /Users/johnizzo/Desktop/train_images/90/bdbd0253ad2442b7.jpg. Error: cannot identify image file '/Users/johnizzo/Desktop/train_images/90/bdbd0253ad2442b7.jpg'\n",
      "Warning: Skipping image /Users/johnizzo/Desktop/train_images/90/c1c9a636645d79a6.jpg. Error: [Errno 2] No such file or directory: '/Users/johnizzo/Desktop/train_images/90/c1c9a636645d79a6.jpg'\n",
      "Warning: Skipping image /Users/johnizzo/Desktop/train_images/90/c2e469dad61e18f1.jpg. Error: [Errno 2] No such file or directory: '/Users/johnizzo/Desktop/train_images/90/c2e469dad61e18f1.jpg'\n",
      "Warning: Skipping image /Users/johnizzo/Desktop/train_images/90/c3f90b18c11fe03f.jpg. Error: cannot identify image file '/Users/johnizzo/Desktop/train_images/90/c3f90b18c11fe03f.jpg'\n",
      "Warning: Skipping image /Users/johnizzo/Desktop/train_images/90/c3c31b38ecdc3362.jpg. Error: [Errno 2] No such file or directory: '/Users/johnizzo/Desktop/train_images/90/c3c31b38ecdc3362.jpg'\n",
      "Warning: Skipping image /Users/johnizzo/Desktop/train_images/90/c296afc53831dce1.jpg. Error: [Errno 2] No such file or directory: '/Users/johnizzo/Desktop/train_images/90/c296afc53831dce1.jpg'\n",
      "Warning: Skipping image /Users/johnizzo/Desktop/train_images/90/c26c2d66a626af96.jpg. Error: [Errno 2] No such file or directory: '/Users/johnizzo/Desktop/train_images/90/c26c2d66a626af96.jpg'\n",
      "Warning: Skipping image /Users/johnizzo/Desktop/train_images/90/c2c7e3d9cc329b90.jpg. Error: [Errno 2] No such file or directory: '/Users/johnizzo/Desktop/train_images/90/c2c7e3d9cc329b90.jpg'\n",
      "Warning: Skipping image /Users/johnizzo/Desktop/train_images/90/c1fb947829676269.jpg. Error: [Errno 2] No such file or directory: '/Users/johnizzo/Desktop/train_images/90/c1fb947829676269.jpg'\n",
      "Warning: Skipping image /Users/johnizzo/Desktop/train_images/90/c1c8b5e3c23f1cc9.jpg. Error: [Errno 2] No such file or directory: '/Users/johnizzo/Desktop/train_images/90/c1c8b5e3c23f1cc9.jpg'\n",
      "Warning: Skipping image /Users/johnizzo/Desktop/train_images/90/c1e13876d68f2d34.jpg. Error: [Errno 2] No such file or directory: '/Users/johnizzo/Desktop/train_images/90/c1e13876d68f2d34.jpg'\n",
      "Warning: Skipping image /Users/johnizzo/Desktop/train_images/90/c3e2393d65991867.jpg. Error: cannot identify image file '/Users/johnizzo/Desktop/train_images/90/c3e2393d65991867.jpg'\n",
      "Warning: Skipping image /Users/johnizzo/Desktop/train_images/90/c3b27cdf80e4c391.jpg. Error: image file is truncated (58 bytes not processed)\n",
      "Warning: Skipping image /Users/johnizzo/Desktop/train_images/90/c2af65d15561b6c4.jpg. Error: [Errno 2] No such file or directory: '/Users/johnizzo/Desktop/train_images/90/c2af65d15561b6c4.jpg'\n",
      "Warning: Skipping image /Users/johnizzo/Desktop/train_images/90/c39b3bc4fc622619.jpg. Error: [Errno 2] No such file or directory: '/Users/johnizzo/Desktop/train_images/90/c39b3bc4fc622619.jpg'\n",
      "Warning: Skipping image /Users/johnizzo/Desktop/train_images/90/c262be33ccce5133.jpg. Error: [Errno 2] No such file or directory: '/Users/johnizzo/Desktop/train_images/90/c262be33ccce5133.jpg'\n",
      "Warning: Skipping image /Users/johnizzo/Desktop/train_images/90/c26bf50a2f1c3f24.jpg. Error: [Errno 2] No such file or directory: '/Users/johnizzo/Desktop/train_images/90/c26bf50a2f1c3f24.jpg'\n",
      "Warning: Skipping image /Users/johnizzo/Desktop/train_images/90/c1ca9a692b1f6563.jpg. Error: [Errno 2] No such file or directory: '/Users/johnizzo/Desktop/train_images/90/c1ca9a692b1f6563.jpg'\n",
      "Warning: Skipping image /Users/johnizzo/Desktop/train_images/90/bdbb6255427d8660.jpg. Error: [Errno 2] No such file or directory: '/Users/johnizzo/Desktop/train_images/90/bdbb6255427d8660.jpg'\n",
      "Warning: Skipping image /Users/johnizzo/Desktop/train_images/90/c3fc7e84c0c1a8f6.jpg. Error: cannot identify image file '/Users/johnizzo/Desktop/train_images/90/c3fc7e84c0c1a8f6.jpg'\n",
      "Warning: Skipping image /Users/johnizzo/Desktop/train_images/90/c3873ce81e763139.jpg. Error: cannot identify image file '/Users/johnizzo/Desktop/train_images/90/c3873ce81e763139.jpg'\n",
      "Warning: Skipping image /Users/johnizzo/Desktop/train_images/90/c1d132eacc1db6b4.jpg. Error: [Errno 2] No such file or directory: '/Users/johnizzo/Desktop/train_images/90/c1d132eacc1db6b4.jpg'\n",
      "Epoch 18/20, Loss: 3.001364555844554\n",
      "Warning: Skipping image /Users/johnizzo/Desktop/train_images/90/c262be33ccce5133.jpg. Error: [Errno 2] No such file or directory: '/Users/johnizzo/Desktop/train_images/90/c262be33ccce5133.jpg'\n",
      "Warning: Skipping image /Users/johnizzo/Desktop/train_images/90/c3b27cdf80e4c391.jpg. Error: image file is truncated (58 bytes not processed)\n",
      "Warning: Skipping image /Users/johnizzo/Desktop/train_images/90/c3873ce81e763139.jpg. Error: cannot identify image file '/Users/johnizzo/Desktop/train_images/90/c3873ce81e763139.jpg'\n",
      "Warning: Skipping image /Users/johnizzo/Desktop/train_images/90/c1f234c95a1ce177.jpg. Error: cannot identify image file '/Users/johnizzo/Desktop/train_images/90/c1f234c95a1ce177.jpg'\n",
      "Warning: Skipping image /Users/johnizzo/Desktop/train_images/90/c1ca9a692b1f6563.jpg. Error: [Errno 2] No such file or directory: '/Users/johnizzo/Desktop/train_images/90/c1ca9a692b1f6563.jpg'\n",
      "Warning: Skipping image /Users/johnizzo/Desktop/train_images/90/c296afc53831dce1.jpg. Error: [Errno 2] No such file or directory: '/Users/johnizzo/Desktop/train_images/90/c296afc53831dce1.jpg'\n",
      "Warning: Skipping image /Users/johnizzo/Desktop/train_images/90/c2af65d15561b6c4.jpg. Error: [Errno 2] No such file or directory: '/Users/johnizzo/Desktop/train_images/90/c2af65d15561b6c4.jpg'\n",
      "Warning: Skipping image /Users/johnizzo/Desktop/train_images/90/c26bf50a2f1c3f24.jpg. Error: [Errno 2] No such file or directory: '/Users/johnizzo/Desktop/train_images/90/c26bf50a2f1c3f24.jpg'\n",
      "Warning: Skipping image /Users/johnizzo/Desktop/train_images/90/c2e61176993e195e.jpg. Error: [Errno 2] No such file or directory: '/Users/johnizzo/Desktop/train_images/90/c2e61176993e195e.jpg'\n",
      "Warning: Skipping image /Users/johnizzo/Desktop/train_images/90/c3c31b38ecdc3362.jpg. Error: [Errno 2] No such file or directory: '/Users/johnizzo/Desktop/train_images/90/c3c31b38ecdc3362.jpg'\n",
      "Warning: Skipping image /Users/johnizzo/Desktop/train_images/90/c3fc7e84c0c1a8f6.jpg. Error: cannot identify image file '/Users/johnizzo/Desktop/train_images/90/c3fc7e84c0c1a8f6.jpg'\n",
      "Warning: Skipping image /Users/johnizzo/Desktop/train_images/90/c2e07c9f6b96f0c0.jpg. Error: [Errno 2] No such file or directory: '/Users/johnizzo/Desktop/train_images/90/c2e07c9f6b96f0c0.jpg'\n",
      "Warning: Skipping image /Users/johnizzo/Desktop/train_images/90/c28763de37e09e30.jpg. Error: [Errno 2] No such file or directory: '/Users/johnizzo/Desktop/train_images/90/c28763de37e09e30.jpg'\n",
      "Warning: Skipping image /Users/johnizzo/Desktop/train_images/90/c1c9a636645d79a6.jpg. Error: [Errno 2] No such file or directory: '/Users/johnizzo/Desktop/train_images/90/c1c9a636645d79a6.jpg'\n",
      "Warning: Skipping image /Users/johnizzo/Desktop/train_images/90/c39b3bc4fc622619.jpg. Error: [Errno 2] No such file or directory: '/Users/johnizzo/Desktop/train_images/90/c39b3bc4fc622619.jpg'\n",
      "Warning: Skipping image /Users/johnizzo/Desktop/train_images/90/c3f90b18c11fe03f.jpg. Error: cannot identify image file '/Users/johnizzo/Desktop/train_images/90/c3f90b18c11fe03f.jpg'\n",
      "Warning: Skipping image /Users/johnizzo/Desktop/train_images/90/bdbb6255427d8660.jpg. Error: [Errno 2] No such file or directory: '/Users/johnizzo/Desktop/train_images/90/bdbb6255427d8660.jpg'\n",
      "Warning: Skipping image /Users/johnizzo/Desktop/train_images/90/bdaf299cd2c2086d.jpg. Error: [Errno 2] No such file or directory: '/Users/johnizzo/Desktop/train_images/90/bdaf299cd2c2086d.jpg'\n",
      "Warning: Skipping image /Users/johnizzo/Desktop/train_images/90/c2e469dad61e18f1.jpg. Error: [Errno 2] No such file or directory: '/Users/johnizzo/Desktop/train_images/90/c2e469dad61e18f1.jpg'\n",
      "Warning: Skipping image /Users/johnizzo/Desktop/train_images/90/c3e1748f2f7434c8.jpg. Error: [Errno 2] No such file or directory: '/Users/johnizzo/Desktop/train_images/90/c3e1748f2f7434c8.jpg'\n",
      "Warning: Skipping image /Users/johnizzo/Desktop/train_images/90/c1c8b5e3c23f1cc9.jpg. Error: [Errno 2] No such file or directory: '/Users/johnizzo/Desktop/train_images/90/c1c8b5e3c23f1cc9.jpg'\n",
      "Warning: Skipping image /Users/johnizzo/Desktop/train_images/90/c1e13876d68f2d34.jpg. Error: [Errno 2] No such file or directory: '/Users/johnizzo/Desktop/train_images/90/c1e13876d68f2d34.jpg'\n",
      "Warning: Skipping image /Users/johnizzo/Desktop/train_images/90/c2c7e3d9cc329b90.jpg. Error: [Errno 2] No such file or directory: '/Users/johnizzo/Desktop/train_images/90/c2c7e3d9cc329b90.jpg'\n",
      "Warning: Skipping image /Users/johnizzo/Desktop/train_images/90/c1d132eacc1db6b4.jpg. Error: [Errno 2] No such file or directory: '/Users/johnizzo/Desktop/train_images/90/c1d132eacc1db6b4.jpg'\n",
      "Warning: Skipping image /Users/johnizzo/Desktop/train_images/90/bdbd0253ad2442b7.jpg. Error: cannot identify image file '/Users/johnizzo/Desktop/train_images/90/bdbd0253ad2442b7.jpg'\n",
      "Warning: Skipping image /Users/johnizzo/Desktop/train_images/90/c3e2393d65991867.jpg. Error: cannot identify image file '/Users/johnizzo/Desktop/train_images/90/c3e2393d65991867.jpg'\n",
      "Warning: Skipping image /Users/johnizzo/Desktop/train_images/90/c1fb947829676269.jpg. Error: [Errno 2] No such file or directory: '/Users/johnizzo/Desktop/train_images/90/c1fb947829676269.jpg'\n",
      "Warning: Skipping image /Users/johnizzo/Desktop/train_images/90/c1ded444afaa1c39.jpg. Error: [Errno 2] No such file or directory: '/Users/johnizzo/Desktop/train_images/90/c1ded444afaa1c39.jpg'\n",
      "Warning: Skipping image /Users/johnizzo/Desktop/train_images/90/c26c2d66a626af96.jpg. Error: [Errno 2] No such file or directory: '/Users/johnizzo/Desktop/train_images/90/c26c2d66a626af96.jpg'\n",
      "Epoch 19/20, Loss: 2.854254344823184\n",
      "Warning: Skipping image /Users/johnizzo/Desktop/train_images/90/c1f234c95a1ce177.jpg. Error: cannot identify image file '/Users/johnizzo/Desktop/train_images/90/c1f234c95a1ce177.jpg'\n",
      "Warning: Skipping image /Users/johnizzo/Desktop/train_images/90/c26c2d66a626af96.jpg. Error: [Errno 2] No such file or directory: '/Users/johnizzo/Desktop/train_images/90/c26c2d66a626af96.jpg'\n",
      "Warning: Skipping image /Users/johnizzo/Desktop/train_images/90/c26bf50a2f1c3f24.jpg. Error: [Errno 2] No such file or directory: '/Users/johnizzo/Desktop/train_images/90/c26bf50a2f1c3f24.jpg'\n",
      "Warning: Skipping image /Users/johnizzo/Desktop/train_images/90/c3e2393d65991867.jpg. Error: cannot identify image file '/Users/johnizzo/Desktop/train_images/90/c3e2393d65991867.jpg'\n",
      "Warning: Skipping image /Users/johnizzo/Desktop/train_images/90/c1ca9a692b1f6563.jpg. Error: [Errno 2] No such file or directory: '/Users/johnizzo/Desktop/train_images/90/c1ca9a692b1f6563.jpg'\n",
      "Warning: Skipping image /Users/johnizzo/Desktop/train_images/90/c2e61176993e195e.jpg. Error: [Errno 2] No such file or directory: '/Users/johnizzo/Desktop/train_images/90/c2e61176993e195e.jpg'\n",
      "Warning: Skipping image /Users/johnizzo/Desktop/train_images/90/c2e469dad61e18f1.jpg. Error: [Errno 2] No such file or directory: '/Users/johnizzo/Desktop/train_images/90/c2e469dad61e18f1.jpg'\n",
      "Warning: Skipping image /Users/johnizzo/Desktop/train_images/90/c262be33ccce5133.jpg. Error: [Errno 2] No such file or directory: '/Users/johnizzo/Desktop/train_images/90/c262be33ccce5133.jpg'\n",
      "Warning: Skipping image /Users/johnizzo/Desktop/train_images/90/c3873ce81e763139.jpg. Error: cannot identify image file '/Users/johnizzo/Desktop/train_images/90/c3873ce81e763139.jpg'\n",
      "Warning: Skipping image /Users/johnizzo/Desktop/train_images/90/c1e13876d68f2d34.jpg. Error: [Errno 2] No such file or directory: '/Users/johnizzo/Desktop/train_images/90/c1e13876d68f2d34.jpg'\n",
      "Warning: Skipping image /Users/johnizzo/Desktop/train_images/90/c1fb947829676269.jpg. Error: [Errno 2] No such file or directory: '/Users/johnizzo/Desktop/train_images/90/c1fb947829676269.jpg'\n",
      "Warning: Skipping image /Users/johnizzo/Desktop/train_images/90/c296afc53831dce1.jpg. Error: [Errno 2] No such file or directory: '/Users/johnizzo/Desktop/train_images/90/c296afc53831dce1.jpg'\n",
      "Warning: Skipping image /Users/johnizzo/Desktop/train_images/90/c1c9a636645d79a6.jpg. Error: [Errno 2] No such file or directory: '/Users/johnizzo/Desktop/train_images/90/c1c9a636645d79a6.jpg'\n",
      "Warning: Skipping image /Users/johnizzo/Desktop/train_images/90/c28763de37e09e30.jpg. Error: [Errno 2] No such file or directory: '/Users/johnizzo/Desktop/train_images/90/c28763de37e09e30.jpg'\n",
      "Warning: Skipping image /Users/johnizzo/Desktop/train_images/90/c1d132eacc1db6b4.jpg. Error: [Errno 2] No such file or directory: '/Users/johnizzo/Desktop/train_images/90/c1d132eacc1db6b4.jpg'\n",
      "Warning: Skipping image /Users/johnizzo/Desktop/train_images/90/bdbd0253ad2442b7.jpg. Error: cannot identify image file '/Users/johnizzo/Desktop/train_images/90/bdbd0253ad2442b7.jpg'\n",
      "Warning: Skipping image /Users/johnizzo/Desktop/train_images/90/c3f90b18c11fe03f.jpg. Error: cannot identify image file '/Users/johnizzo/Desktop/train_images/90/c3f90b18c11fe03f.jpg'\n",
      "Warning: Skipping image /Users/johnizzo/Desktop/train_images/90/c3fc7e84c0c1a8f6.jpg. Error: cannot identify image file '/Users/johnizzo/Desktop/train_images/90/c3fc7e84c0c1a8f6.jpg'\n",
      "Warning: Skipping image /Users/johnizzo/Desktop/train_images/90/c39b3bc4fc622619.jpg. Error: [Errno 2] No such file or directory: '/Users/johnizzo/Desktop/train_images/90/c39b3bc4fc622619.jpg'\n",
      "Warning: Skipping image /Users/johnizzo/Desktop/train_images/90/c1ded444afaa1c39.jpg. Error: [Errno 2] No such file or directory: '/Users/johnizzo/Desktop/train_images/90/c1ded444afaa1c39.jpg'\n",
      "Warning: Skipping image /Users/johnizzo/Desktop/train_images/90/bdbb6255427d8660.jpg. Error: [Errno 2] No such file or directory: '/Users/johnizzo/Desktop/train_images/90/bdbb6255427d8660.jpg'\n",
      "Warning: Skipping image /Users/johnizzo/Desktop/train_images/90/c1c8b5e3c23f1cc9.jpg. Error: [Errno 2] No such file or directory: '/Users/johnizzo/Desktop/train_images/90/c1c8b5e3c23f1cc9.jpg'\n",
      "Warning: Skipping image /Users/johnizzo/Desktop/train_images/90/c2af65d15561b6c4.jpg. Error: [Errno 2] No such file or directory: '/Users/johnizzo/Desktop/train_images/90/c2af65d15561b6c4.jpg'\n",
      "Warning: Skipping image /Users/johnizzo/Desktop/train_images/90/bdaf299cd2c2086d.jpg. Error: [Errno 2] No such file or directory: '/Users/johnizzo/Desktop/train_images/90/bdaf299cd2c2086d.jpg'\n",
      "Warning: Skipping image /Users/johnizzo/Desktop/train_images/90/c3b27cdf80e4c391.jpg. Error: image file is truncated (58 bytes not processed)\n",
      "Warning: Skipping image /Users/johnizzo/Desktop/train_images/90/c3e1748f2f7434c8.jpg. Error: [Errno 2] No such file or directory: '/Users/johnizzo/Desktop/train_images/90/c3e1748f2f7434c8.jpg'\n",
      "Warning: Skipping image /Users/johnizzo/Desktop/train_images/90/c2c7e3d9cc329b90.jpg. Error: [Errno 2] No such file or directory: '/Users/johnizzo/Desktop/train_images/90/c2c7e3d9cc329b90.jpg'\n",
      "Warning: Skipping image /Users/johnizzo/Desktop/train_images/90/c3c31b38ecdc3362.jpg. Error: [Errno 2] No such file or directory: '/Users/johnizzo/Desktop/train_images/90/c3c31b38ecdc3362.jpg'\n",
      "Warning: Skipping image /Users/johnizzo/Desktop/train_images/90/c2e07c9f6b96f0c0.jpg. Error: [Errno 2] No such file or directory: '/Users/johnizzo/Desktop/train_images/90/c2e07c9f6b96f0c0.jpg'\n",
      "Epoch 20/20, Loss: 2.7361164776815308\n",
      "Model saved after 20 epochs.\n"
     ]
    }
   ],
   "source": [
    "import torch\n",
    "from transformers import MobileViTForImageClassification\n",
    "\n",
    "# Set device\n",
    "device = torch.device(\"cuda\" if torch.cuda.is_available() else \"cpu\")\n",
    "\n",
    "# Reload the MobileViT model architecture\n",
    "model = MobileViTForImageClassification.from_pretrained(\n",
    "    \"apple/mobilevit-xx-small\",\n",
    "    num_labels=num_classes,  # Ensure this matches your original setup\n",
    "    ignore_mismatched_sizes=True\n",
    ")\n",
    "\n",
    "# Move the model to the appropriate device (GPU or CPU)\n",
    "model = model.to(device)\n",
    "\n",
    "# Load the model state saved after 17 epochs\n",
    "model.load_state_dict(torch.load('model_after_17(2)_epochs.pth'))\n",
    "print(\"Model loaded successfully from 17 epochs.\")\n",
    "\n",
    "# Reinitialize the optimizer\n",
    "optimizer = torch.optim.AdamW(model.parameters(), lr=1e-4)\n",
    "\n",
    "# Continue training for 3 additional epochs\n",
    "num_epochs_additional = 3  # Number of additional epochs\n",
    "for epoch in range(18, 18 + num_epochs_additional):  # Continue from epoch 18\n",
    "    model.train()\n",
    "    running_loss = 0.0\n",
    "    \n",
    "    for batch in train_dataloader:\n",
    "        if batch is None:  # Skip empty batches\n",
    "            continue\n",
    "\n",
    "        images, labels = batch\n",
    "        images, labels = images.to(device), labels.to(device)\n",
    "        \n",
    "        optimizer.zero_grad()\n",
    "        outputs = model(pixel_values=images)\n",
    "        loss = criterion(outputs.logits, labels)\n",
    "        loss.backward()\n",
    "        optimizer.step()\n",
    "        \n",
    "        running_loss += loss.item()\n",
    "    \n",
    "    print(f\"Epoch {epoch}/{17 + num_epochs_additional}, Loss: {running_loss / len(train_dataloader)}\")\n",
    "\n",
    "# Save the model after completing the additional epochs\n",
    "torch.save(model.state_dict(), 'model_after_20(2)_epochs.pth')\n",
    "print(\"Model saved after 20 epochs.\")\n"
   ]
  },
  {
   "cell_type": "code",
   "execution_count": 7,
   "id": "7b0e69ad-5383-400d-81a7-7852cbc04887",
   "metadata": {},
   "outputs": [
    {
     "name": "stderr",
     "output_type": "stream",
     "text": [
      "Some weights of MobileViTForImageClassification were not initialized from the model checkpoint at apple/mobilevit-xx-small and are newly initialized because the shapes did not match:\n",
      "- classifier.weight: found shape torch.Size([1000, 320]) in the checkpoint and torch.Size([1062, 320]) in the model instantiated\n",
      "- classifier.bias: found shape torch.Size([1000]) in the checkpoint and torch.Size([1062]) in the model instantiated\n",
      "You should probably TRAIN this model on a down-stream task to be able to use it for predictions and inference.\n"
     ]
    },
    {
     "name": "stdout",
     "output_type": "stream",
     "text": [
      "Model loaded successfully from 17 epochs.\n"
     ]
    },
    {
     "name": "stderr",
     "output_type": "stream",
     "text": [
      "Evaluating Test Accuracy:  58%|████████▋      | 139/240 [04:52<03:57,  2.35s/it]"
     ]
    },
    {
     "name": "stdout",
     "output_type": "stream",
     "text": [
      "Warning: Skipping image /Users/johnizzo/Desktop/train_images/90/c23ffdd40be520c2.jpg. Error: [Errno 2] No such file or directory: '/Users/johnizzo/Desktop/train_images/90/c23ffdd40be520c2.jpg'\n"
     ]
    },
    {
     "name": "stderr",
     "output_type": "stream",
     "text": [
      "Evaluating Test Accuracy:  99%|██████████████▉| 238/240 [08:15<00:03,  1.72s/it]"
     ]
    },
    {
     "name": "stdout",
     "output_type": "stream",
     "text": [
      "Warning: Skipping image /Users/johnizzo/Desktop/train_images/90/c3c2e86861adc6ee.jpg. Error: [Errno 2] No such file or directory: '/Users/johnizzo/Desktop/train_images/90/c3c2e86861adc6ee.jpg'\n"
     ]
    },
    {
     "name": "stderr",
     "output_type": "stream",
     "text": [
      "Evaluating Test Accuracy: 100%|███████████████| 240/240 [08:19<00:00,  2.08s/it]"
     ]
    },
    {
     "name": "stdout",
     "output_type": "stream",
     "text": [
      "Test Set Accuracy After 20 Epochs: 42.38%\n"
     ]
    },
    {
     "name": "stderr",
     "output_type": "stream",
     "text": [
      "\n"
     ]
    }
   ],
   "source": [
    "import torch\n",
    "from transformers import MobileViTForImageClassification\n",
    "from sklearn.metrics import accuracy_score\n",
    "from tqdm import tqdm\n",
    "\n",
    "# Set device\n",
    "device = torch.device(\"cuda\" if torch.cuda.is_available() else \"cpu\")\n",
    "\n",
    "# Reload the MobileViT model architecture\n",
    "model = MobileViTForImageClassification.from_pretrained(\n",
    "    \"apple/mobilevit-xx-small\",\n",
    "    num_labels=num_classes,  # Ensure this matches your original setup\n",
    "    ignore_mismatched_sizes=True\n",
    ")\n",
    "\n",
    "# Move the model to the appropriate device (GPU or CPU)\n",
    "model = model.to(device)\n",
    "\n",
    "# Load the model state saved after 17 epochs\n",
    "model.load_state_dict(torch.load('model_after_20(2)_epochs.pth'))\n",
    "\n",
    "\n",
    "# Evaluate function to calculate test accuracy\n",
    "def evaluate_test_accuracy(model, dataloader, device):\n",
    "    model.eval()  # Set model to evaluation mode\n",
    "    all_labels = []\n",
    "    all_predictions = []\n",
    "\n",
    "    with torch.no_grad():  # Disable gradient computation for evaluation\n",
    "        for batch in tqdm(dataloader, desc=\"Evaluating Test Accuracy\"):\n",
    "            if batch is None:  # Skip empty batches\n",
    "                continue\n",
    "\n",
    "            images, labels = batch\n",
    "            images, labels = images.to(device), labels.to(device)\n",
    "            \n",
    "            # Forward pass\n",
    "            outputs = model(pixel_values=images)\n",
    "            predictions = torch.argmax(outputs.logits, dim=1)  # Get predicted class\n",
    "            \n",
    "            # Store labels and predictions\n",
    "            all_labels.extend(labels.cpu().numpy())\n",
    "            all_predictions.extend(predictions.cpu().numpy())\n",
    "    \n",
    "    # Calculate accuracy\n",
    "    test_accuracy = accuracy_score(all_labels, all_predictions)\n",
    "    return test_accuracy\n",
    "\n",
    "# Calculate and print test accuracy\n",
    "test_accuracy = evaluate_test_accuracy(model, test_dataloader, device)\n",
    "print(f\"Test Set Accuracy After 20 Epochs: {test_accuracy * 100:.2f}%\")\n"
   ]
  },
  {
   "cell_type": "code",
   "execution_count": 11,
   "id": "7bc3307f-ae00-453e-bbae-0110d9e0c16a",
   "metadata": {},
   "outputs": [
    {
     "name": "stderr",
     "output_type": "stream",
     "text": [
      "Some weights of MobileViTForImageClassification were not initialized from the model checkpoint at apple/mobilevit-xx-small and are newly initialized because the shapes did not match:\n",
      "- classifier.weight: found shape torch.Size([1000, 320]) in the checkpoint and torch.Size([1062, 320]) in the model instantiated\n",
      "- classifier.bias: found shape torch.Size([1000]) in the checkpoint and torch.Size([1062]) in the model instantiated\n",
      "You should probably TRAIN this model on a down-stream task to be able to use it for predictions and inference.\n"
     ]
    },
    {
     "name": "stdout",
     "output_type": "stream",
     "text": [
      "Model loaded successfully from 20 epochs.\n"
     ]
    },
    {
     "name": "stderr",
     "output_type": "stream",
     "text": [
      "Evaluating Top-5 Accuracy:  58%|████████      | 139/240 [05:22<03:37,  2.16s/it]"
     ]
    },
    {
     "name": "stdout",
     "output_type": "stream",
     "text": [
      "Warning: Skipping image /Users/johnizzo/Desktop/train_images/90/c23ffdd40be520c2.jpg. Error: [Errno 2] No such file or directory: '/Users/johnizzo/Desktop/train_images/90/c23ffdd40be520c2.jpg'\n"
     ]
    },
    {
     "name": "stderr",
     "output_type": "stream",
     "text": [
      "Evaluating Top-5 Accuracy:  99%|█████████████▉| 238/240 [08:58<00:04,  2.17s/it]"
     ]
    },
    {
     "name": "stdout",
     "output_type": "stream",
     "text": [
      "Warning: Skipping image /Users/johnizzo/Desktop/train_images/90/c3c2e86861adc6ee.jpg. Error: [Errno 2] No such file or directory: '/Users/johnizzo/Desktop/train_images/90/c3c2e86861adc6ee.jpg'\n"
     ]
    },
    {
     "name": "stderr",
     "output_type": "stream",
     "text": [
      "Evaluating Top-5 Accuracy: 100%|██████████████| 240/240 [09:04<00:00,  2.27s/it]"
     ]
    },
    {
     "name": "stdout",
     "output_type": "stream",
     "text": [
      "Top-5 Accuracy on Test Set After 20 Epochs: 62.11%\n"
     ]
    },
    {
     "name": "stderr",
     "output_type": "stream",
     "text": [
      "\n"
     ]
    }
   ],
   "source": [
    "import torch\n",
    "import numpy as np\n",
    "from tqdm import tqdm\n",
    "from transformers import MobileViTForImageClassification\n",
    "from sklearn.metrics import accuracy_score\n",
    "\n",
    "# Set device\n",
    "device = torch.device(\"cuda\" if torch.cuda.is_available() else \"cpu\")\n",
    "\n",
    "# Reload the MobileViT model architecture\n",
    "model = MobileViTForImageClassification.from_pretrained(\n",
    "    \"apple/mobilevit-xx-small\",\n",
    "    num_labels=num_classes,  # Ensure this matches your original setup\n",
    "    ignore_mismatched_sizes=True\n",
    ")\n",
    "\n",
    "# Move the model to the appropriate device (GPU or CPU)\n",
    "model = model.to(device)\n",
    "\n",
    "# Load the model state saved after 20 epochs\n",
    "model.load_state_dict(torch.load('model_after_20(2)_epochs.pth'))\n",
    "print(\"Model loaded successfully from 20 epochs.\")\n",
    "\n",
    "def evaluate_top5_accuracy(model, dataloader, device, k=5):\n",
    "    \"\"\"\n",
    "    Evaluates the model on the dataloader and computes Top-K Accuracy.\n",
    "    \"\"\"\n",
    "    model.eval()  # Set the model to evaluation mode\n",
    "    total_samples = 0\n",
    "    correct_predictions = 0\n",
    "\n",
    "    with torch.no_grad():  # Disable gradient computation for evaluation\n",
    "        for batch in tqdm(dataloader, desc=f\"Evaluating Top-{k} Accuracy\"):\n",
    "            if batch is None:  # Skip empty batches\n",
    "                continue\n",
    "            \n",
    "            images, labels = batch\n",
    "            images, labels = images.to(device), labels.to(device)\n",
    "            \n",
    "            # Forward pass\n",
    "            outputs = model(pixel_values=images)\n",
    "            probabilities = torch.softmax(outputs.logits, dim=1)  # Get class probabilities\n",
    "            \n",
    "            # Get the top-k predictions\n",
    "            topk_predictions = torch.topk(probabilities, k, dim=1).indices\n",
    "            \n",
    "            # Check if the true labels are in the top-k predictions\n",
    "            for i in range(labels.size(0)):\n",
    "                if labels[i] in topk_predictions[i]:\n",
    "                    correct_predictions += 1\n",
    "                total_samples += 1\n",
    "    \n",
    "    # Calculate Top-K Accuracy\n",
    "    top_k_accuracy = correct_predictions / total_samples\n",
    "    return top_k_accuracy\n",
    "\n",
    "# Calculate and print Top-5 Accuracy\n",
    "top5_accuracy = evaluate_top5_accuracy(model, test_dataloader, device, k=5)\n",
    "print(f\"Top-5 Accuracy on Test Set After 20 Epochs: {top5_accuracy * 100:.2f}%\")\n"
   ]
  },
  {
   "cell_type": "code",
   "execution_count": null,
   "id": "3b5e44f4-464a-46cf-8040-162b18e3c5f9",
   "metadata": {},
   "outputs": [],
   "source": []
  }
 ],
 "metadata": {
  "kernelspec": {
   "display_name": "Python 3 (ipykernel)",
   "language": "python",
   "name": "python3"
  },
  "language_info": {
   "codemirror_mode": {
    "name": "ipython",
    "version": 3
   },
   "file_extension": ".py",
   "mimetype": "text/x-python",
   "name": "python",
   "nbconvert_exporter": "python",
   "pygments_lexer": "ipython3",
   "version": "3.9.20"
  }
 },
 "nbformat": 4,
 "nbformat_minor": 5
}
